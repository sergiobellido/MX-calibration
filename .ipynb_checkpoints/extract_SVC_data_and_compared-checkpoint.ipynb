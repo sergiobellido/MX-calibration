{
 "cells": [
  {
   "cell_type": "markdown",
   "id": "70d3d7c1-4136-46dd-a298-96c025af1fc7",
   "metadata": {},
   "source": [
    "# Automated extract SVC data and compared with MX camera"
   ]
  },
  {
   "cell_type": "code",
   "execution_count": 21,
   "id": "cc5f0e02-0dd7-43b2-9cf0-58424cb82431",
   "metadata": {},
   "outputs": [],
   "source": [
    "#Generic imports\n",
    "import pandas as pd\n",
    "import geopandas as gpd\n",
    "import numpy as np\n",
    "import os\n",
    "import matplotlib.pyplot as plt\n",
    "import seaborn as sb\n",
    "from rasterstats import zonal_stats\n",
    "\n",
    "#Local imports\n",
    "from specdal import Collection, Spectrum"
   ]
  },
  {
   "cell_type": "markdown",
   "id": "2aa6ac44-a174-4919-a928-174866376ca3",
   "metadata": {},
   "source": [
    "## Asociar los ficheros a las ids de los plots"
   ]
  },
  {
   "cell_type": "code",
   "execution_count": 22,
   "id": "a0369c6b-1e4e-4490-abad-3f94e837533d",
   "metadata": {},
   "outputs": [],
   "source": [
    "def relate_index_with_file_name_GLOBAL(datadir):\n",
    "    #Extraer lista de rutas\n",
    "    list_rutas = []\n",
    "    df_global  = pd.DataFrame(columns = ['filas','columnas','id','file_names','tipo'])\n",
    "    for folder_tipo in os.listdir(datadir)[0:2]:\n",
    "        for folder in os.listdir(datadir + folder_tipo):\n",
    "            #list_rutas.append(datadir+folder_tipo+'/'+folder+'/')\n",
    "            df = relate_index_with_file_name(datadir, folder_tipo, folder)\n",
    "            df_global = pd.concat([df_global, df])\n",
    "            #df_global = df_global.concat(df)\n",
    "    #Escribir en un CSV\n",
    "    df_global.to_csv(datadir+'files_and_ids_plot.csv')\n",
    "    return df_global\n",
    "            \n",
    "    \n",
    "def relate_index_with_file_name(datadir, tipo, folder):\n",
    "        \n",
    "    datadir = datadir + '/' + tipo + '/' + folder\n",
    "    #Proceso\n",
    "    fila_inicial = int(str(folder[14:16]))\n",
    "    fila_final = int(str(folder[17:19]))\n",
    "    columna = int(str(folder[7:9]))\n",
    "\n",
    "    if fila_inicial > fila_final:\n",
    "        step = -1\n",
    "    else:\n",
    "        step = 1\n",
    "\n",
    "    filas = np.arange(fila_inicial, fila_final-1, step, dtype='int')\n",
    "    columnas = np.ones(len(filas), dtype='int')*columna\n",
    "    #Convert to dataframe\n",
    "    df_filas = pd.DataFrame(filas, columns=['filas'])\n",
    "    df_columnas = pd.DataFrame(columnas, columns=['columnas'])\n",
    "    #Merge dataframes\n",
    "    df_data = df_filas.merge(df_columnas, how='left', left_index=True, right_index=True)\n",
    "    #Calculate id with columns*1000 + rows\n",
    "    df_data['id'] = df_data['columnas']*1000 + df_data['filas']\n",
    "\n",
    "    #Asociar nombre fichero a la id\n",
    "    files_names = []\n",
    "    for f in sorted(os.listdir(datadir)):\n",
    "        if f.endswith('.sig'):\n",
    "            files_names.append(f[0:-4])\n",
    "    #Eliminar los target del panel en blanco y de los carteles informativos en el inicio y el fin\n",
    "    del files_names[0:2]    #Target del panel y cartel informativo inicio     \n",
    "    del files_names[-1]     #Cartel informativo final\n",
    "\n",
    "    #Añadir el nombre del fichero al dataframe\n",
    "    df_data['file_name'] = files_names\n",
    "    #Añadir el tipo........ESTO FFALTA POR HACER\n",
    "    df_data['tipo'] = tipo\n",
    "    return df_data\n",
    "\n",
    "if __name__ == \"__main__\":\n",
    "    datadir = \"Z:/11-Projects/CERESTRES/04-Raw/SVC_HR1024i/Santaella/2022_04_22/classified/\"\n",
    "    df_measures = relate_index_with_file_name_GLOBAL(datadir)"
   ]
  },
  {
   "cell_type": "code",
   "execution_count": null,
   "id": "66f30dad-6b89-4a36-9145-d48d6f76e567",
   "metadata": {},
   "outputs": [],
   "source": []
  },
  {
   "cell_type": "markdown",
   "id": "384c32e7-5496-424f-9cf1-d5fea299a1e9",
   "metadata": {},
   "source": [
    "## Unir las medidas con los atributos de los plots"
   ]
  },
  {
   "cell_type": "code",
   "execution_count": 23,
   "id": "4f622b3e-0523-434b-8991-c2b6bcae9c3f",
   "metadata": {},
   "outputs": [
    {
     "name": "stderr",
     "output_type": "stream",
     "text": [
      "C:\\Users\\sergi\\anaconda3\\envs\\specdal\\lib\\site-packages\\pandas\\core\\indexes\\base.py:6982: FutureWarning: In a future version, the Index constructor will not infer numeric dtypes when passed object-dtype sequences (matching Series behavior)\n",
      "  return Index(sequences[0], name=names)\n"
     ]
    }
   ],
   "source": [
    "#Path for shapefile templates\n",
    "att_dir_riego=\"Z:/11-Projects/CERESTRES/02-ensayo/Santaella/Shapefiles/01-attributes/riego/riego_shapefile_full_atributes.shp\"\n",
    "att_dir_secano=\"Z:/11-Projects/CERESTRES/02-ensayo/Santaella/Shapefiles/01-attributes/secano/secano_shapefile_full_atributes.shp\"\n",
    "#Read shapefile with geopandas\n",
    "df_riego_att = gpd.read_file(att_dir_riego).set_index('id_real').rename(columns={\"tipo\":\"tipo_plantilla\", \"fila_real\":\"fila_plantilla\", \n",
    "                                                                                 \"columna_re\":\"columna_plantilla\", \"numero_var\":\"numero_variedad\", \n",
    "                                                                                 \"nombre_var\":\"nombre_variedad\"})\n",
    "df_secano_att = gpd.read_file(att_dir_secano).set_index('id_real').rename(columns={\"tipo\":\"tipo_plantilla\", \"fila_real\":\"fila_plantilla\", \n",
    "                                                                                 \"columna_re\":\"columna_plantilla\", \"numero_var\":\"numero_variedad\", \n",
    "                                                                                 \"nombre_var\":\"nombre_variedad\"})\n",
    "#Divide original df into riego and secano for merging\n",
    "df_measures_riego = df_measures.loc[df_measures['tipo']=='riego'].set_index('id')\n",
    "df_measures_secano = df_measures.loc[df_measures['tipo']=='secano'].set_index('id')\n",
    "\n",
    "# Merge dataframes\n",
    "df_riego = pd.merge(df_measures_riego, df_riego_att, how='inner', right_index=True, left_index=True)\n",
    "df_secano = pd.merge(df_measures_secano, df_secano_att, how='inner', right_index=True, left_index=True)\n",
    "\n",
    "df_measures_att = pd.concat([df_riego, df_secano])"
   ]
  },
  {
   "cell_type": "markdown",
   "id": "139a0efb-125e-47ab-8ab3-e7cebf28dc01",
   "metadata": {},
   "source": [
    "## Extraer metadata, data con Specdal y unir los metadatos con las medidas realizadas"
   ]
  },
  {
   "cell_type": "code",
   "execution_count": 24,
   "id": "b86123b3-3739-4525-ab8b-7fabd4830596",
   "metadata": {},
   "outputs": [],
   "source": [
    "def extract_metadata_and_data_SVC(data_path):\n",
    "    datadir =data_path\n",
    "    c = Collection(name='santaella')\n",
    "    metadata = []\n",
    "    for f in sorted(os.listdir(datadir)):\n",
    "        if f.endswith('.sig'):\n",
    "            spectrum = Spectrum(filepath=os.path.join(datadir, f))\n",
    "            c.append(spectrum)\n",
    "            df = pd.DataFrame([spectrum.metadata])\n",
    "            metadata.append(df)\n",
    "    df_metadata = pd.concat(metadata)\n",
    "\n",
    "    return df_metadata, c.data\n",
    "\n",
    "\n",
    "if __name__ == '__main__':\n",
    "    data_path = \"Z:/11-Projects/CERESTRES/04-Raw/SVC_HR1024i/Santaella/2022_04_22/\"\n",
    "    export_path = data_path\n",
    "    #Call function\n",
    "    metadata, data = extract_metadata_and_data_SVC(data_path=data_path)\n",
    "    #Exportar a un CSV (df_metadata y data)\n",
    "    metadata.to_csv(export_path+'metadata.csv', encoding='utf-8', index=False)\n",
    "    data.to_csv(export_path+'data.csv', encoding='utf-8')\n",
    "    \n",
    "    #SE UNEN LOS DATAFRAMES DE MEDIDAS SVC Y EL DE METADATOS PARA TENER SOLAMENTE LAS MEDIDAS DE LOS PLOTS EN UN CSV (metadata_filter.csv)\n",
    "    df_measures_att = df_measures_att.reset_index().rename(columns={\"index\":\"id\"}).set_index('file_name')\n",
    "    metadata = metadata.set_index('file_name')\n",
    "\n",
    "    metadata_filter = pd.merge(metadata,df_measures_att,  how='inner', left_index=True, right_index=True)\n",
    "    metadata_filter = metadata_filter.drop(['file_names'], axis=1).reset_index()\n",
    "    metadata_filter.to_csv(export_path+'metadata_filter.csv', encoding='utf-8', index=False)"
   ]
  },
  {
   "cell_type": "markdown",
   "id": "74ddc69a-7c8f-436c-afd3-0c498fffc1cd",
   "metadata": {},
   "source": [
    "## Generar un report - comparar los datos con los de la cámara multiespectral"
   ]
  },
  {
   "cell_type": "code",
   "execution_count": null,
   "id": "cbda1d15-5366-4f19-aa8a-b07275ed779b",
   "metadata": {},
   "outputs": [],
   "source": []
  }
 ],
 "metadata": {
  "kernelspec": {
   "display_name": "Python [conda env:specdal]",
   "language": "python",
   "name": "conda-env-specdal-py"
  },
  "language_info": {
   "codemirror_mode": {
    "name": "ipython",
    "version": 3
   },
   "file_extension": ".py",
   "mimetype": "text/x-python",
   "name": "python",
   "nbconvert_exporter": "python",
   "pygments_lexer": "ipython3",
   "version": "3.10.4"
  }
 },
 "nbformat": 4,
 "nbformat_minor": 5
}
